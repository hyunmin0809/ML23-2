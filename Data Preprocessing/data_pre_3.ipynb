{
  "nbformat": 4,
  "nbformat_minor": 0,
  "metadata": {
    "colab": {
      "provenance": []
    },
    "kernelspec": {
      "name": "python3",
      "display_name": "Python 3"
    },
    "language_info": {
      "name": "python"
    }
  },
  "cells": [
    {
      "cell_type": "code",
      "execution_count": null,
      "metadata": {
        "id": "oUfUv4C-byZU"
      },
      "outputs": [],
      "source": [
        "from google.colab import drive\n",
        "drive.mount('/content/drive')"
      ]
    },
    {
      "cell_type": "code",
      "source": [
        "import pickle\n",
        "import numpy as np\n",
        "\n",
        "USE_SUBLABEL = False\n",
        "URL_PER_SITE = 10\n",
        "TOTAL_URLS   = 950\n",
        "\n",
        "# Load the pickle file\n",
        "print(\"Loading datafile...\")\n",
        "with open(\"/content/drive/MyDrive/mon_standard.pkl\", 'rb') as fi: #Colab 에서 mon_standard.pkl 파일의 경로\n",
        "    data = pickle.load(fi)\n",
        "\n",
        "X8 = []  # rank 4.Standard deviation of the outgoing packet ordering list\n",
        "X9 = []  # rank 5.Number of outgoing packets\n",
        "\n",
        "y = []  # Array to store the site of each instance - 19,000 instances, e.g., [0, 0, 0, 0, 0, 0, ..., 94, 94, 94, 94, 94]\n",
        "\n",
        "# Differentiate instances and sites, and store them in the respective x and y arrays\n",
        "# x array (direction*timestamp), y array (site label)\n",
        "for i in range(TOTAL_URLS):\n",
        "    if USE_SUBLABEL:\n",
        "        label = i\n",
        "    else:\n",
        "        label = i // URL_PER_SITE # Calculate which site's URL the current URL being processed belongs to and set that value as the label. Thus, URLs fetched from the same site are labeled identically.\n",
        "\n",
        "    for sample in data[i]:\n",
        "\n",
        "        incoming_count = 0 #X5\n",
        "        outgoing_count = 0 #X9\n",
        "\n",
        "        outgoing_packet_order = [] #X8\n",
        "\n",
        "        last_sign = None\n",
        "\n",
        "        for c in sample:\n",
        "\n",
        "            # Calculate the direction and size for packet size\n",
        "            dr = 1 if c > 0 else -1\n",
        "            packet_size = dr * 512\n",
        "\n",
        "\n",
        "           # X3\n",
        "           # Calculate the burst sequence based on the sign of the value\n",
        "            if c > 0:\n",
        "                sign = 1\n",
        "                outgoing_count += 1 #X9 (rank 5)\n",
        "                outgoing_packet_order.append(abs(c))\n",
        "\n",
        "            else:\n",
        "                sign = -1\n",
        "                incoming_count += 1 #X5 (rank 1)\n",
        "                incoming_packet_order.append(c)\n",
        "\n",
        "\n",
        "\n",
        "            last_sign = sign\n",
        "\n",
        "\n",
        "        #X8 (rank 4)\n",
        "        std_dev_outgoing_order = np.std(outgoing_packet_order)\n",
        "\n",
        "        total_packets = len(sample)\n",
        "\n",
        "\n",
        "        X8.append(std_dev_outgoing_order)\n",
        "        X9.append(outgoing_count)\n",
        "\n",
        "        y.append(label)\n",
        "\n",
        "X8_np = np.array([np.array(xi) for xi in X8])\n",
        "X9_np = np.array([np.array(xi) for xi in X9])\n",
        "\n",
        "\n",
        "size = len(y)\n",
        "\n",
        "# Extract y values and remove duplicates\n",
        "unique_y = list(set(y))\n",
        "\n",
        "y_np = np.array(y)\n",
        "\n",
        "\n",
        "np.savez('/content/drive/MyDrive/data_arrays_3.npz', X8=X8_np, X9=X9_np, y=y_np)\n",
        "\n"
      ],
      "metadata": {
        "id": "8gM7RUllb3DO"
      },
      "execution_count": null,
      "outputs": []
    }
  ]
}
